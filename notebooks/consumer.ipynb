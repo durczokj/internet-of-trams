{
 "cells": [
  {
   "cell_type": "code",
   "execution_count": 9,
   "metadata": {},
   "outputs": [],
   "source": [
    "from confluent_kafka import Producer, Consumer"
   ]
  },
  {
   "cell_type": "code",
   "execution_count": 22,
   "metadata": {},
   "outputs": [
    {
     "data": {
      "text/plain": [
       "<kafka.consumer.group.KafkaConsumer at 0x7ff024379640>"
      ]
     },
     "execution_count": 22,
     "metadata": {},
     "output_type": "execute_result"
    }
   ],
   "source": [
    "consumer = KafkaConsumer('quickstart', auto_offset_reset='earliest')\n",
    "consumer."
   ]
  },
  {
   "cell_type": "code",
   "execution_count": 9,
   "metadata": {},
   "outputs": [
    {
     "name": "stdout",
     "output_type": "stream",
     "text": [
      "<mysql.connector.connection.MySQLConnection object at 0x7fcde8046e50>\n"
     ]
    }
   ],
   "source": [
    "import mysql.connector\n",
    "\n",
    "cnx = mysql.connector.connect(\n",
    "  host=\"127.0.0.1\",\n",
    "  user=\"root\",\n",
    "  password=\"my-secret-pw\"\n",
    ")\n",
    "\n",
    "print(cnx)"
   ]
  },
  {
   "cell_type": "code",
   "execution_count": 11,
   "metadata": {},
   "outputs": [],
   "source": [
    "cursor = cnx.cursor()"
   ]
  },
  {
   "cell_type": "code",
   "execution_count": 1,
   "metadata": {},
   "outputs": [],
   "source": [
    "from tortoise.models import Model\n",
    "from tortoise import fields"
   ]
  },
  {
   "cell_type": "code",
   "execution_count": 1,
   "metadata": {},
   "outputs": [],
   "source": [
    "\"\"\"\n",
    "This example demonstrates most basic operations with single model\n",
    "\"\"\"\n",
    "from tortoise import Tortoise, fields, run_async\n",
    "from tortoise.models import Model\n",
    "\n",
    "\n",
    "class Event(Model):\n",
    "    id = fields.IntField(pk=True)\n",
    "    name = fields.TextField()\n",
    "    datetime = fields.DatetimeField(null=True)\n",
    "\n",
    "    class Meta:\n",
    "        table = \"event\"\n",
    "\n",
    "    def __str__(self):\n",
    "        return self.name\n",
    "\n",
    "\n",
    "async def run():\n",
    "    await Tortoise.init(db_url=\"sqlite://:memory:\", modules={\"models\": [\"__main__\"]})\n",
    "    await Tortoise.generate_schemas()\n",
    "\n",
    "    event = await Event.create(name=\"Test\")\n",
    "    await Event.filter(id=event.id).update(name=\"Updated name\")\n",
    "\n",
    "    print(await Event.filter(name=\"Updated name\").first())\n",
    "    # >>> Updated name\n",
    "\n",
    "    await Event(name=\"Test 2\").save()\n",
    "    print(await Event.all().values_list(\"id\", flat=True))\n",
    "    # >>> [1, 2]\n",
    "    print(await Event.all().values(\"id\", \"name\"))\n",
    "    # >>> [{'id': 1, 'name': 'Updated name'}, {'id': 2, 'name': 'Test 2'}]\n",
    "\n",
    "\n",
    "# if __name__ == \"__main__\":\n",
    "#     run_async(run())\n"
   ]
  },
  {
   "cell_type": "code",
   "execution_count": 3,
   "metadata": {},
   "outputs": [
    {
     "name": "stdout",
     "output_type": "stream",
     "text": [
      "Updated name\n"
     ]
    }
   ],
   "source": [
    "await Tortoise.init(db_url=\"sqlite://:memory:\", modules={\"models\": [\"__main__\"]})\n",
    "await Tortoise.generate_schemas()\n",
    "\n",
    "event = await Event.create(name=\"Test\")\n",
    "await Event.filter(id=event.id).update(name=\"Updated name\")\n",
    "\n",
    "print(await Event.filter(name=\"Updated name\").first())"
   ]
  },
  {
   "cell_type": "code",
   "execution_count": 3,
   "metadata": {},
   "outputs": [],
   "source": [
    "from tortoise import Tortoise\n",
    "\n",
    "async def init():\n",
    "    # Here we connect to a SQLite DB file.\n",
    "    # also specify the app name of \"models\"\n",
    "    # which contain models from \"app.models\"\n",
    "    await Tortoise.init(\n",
    "        db_url='sqlite://db.sqlite3',\n",
    "        modules={'models': ['app.models']}\n",
    "    )\n",
    "    # Generate the schema\n",
    "    await Tortoise.generate_schemas()"
   ]
  },
  {
   "cell_type": "code",
   "execution_count": 7,
   "metadata": {},
   "outputs": [],
   "source": [
    "tournament = Tournament(name='New Tournament')"
   ]
  },
  {
   "cell_type": "code",
   "execution_count": 8,
   "metadata": {},
   "outputs": [
    {
     "data": {
      "text/plain": [
       "<coroutine object Model.save at 0x7fb8f2f77240>"
      ]
     },
     "execution_count": 8,
     "metadata": {},
     "output_type": "execute_result"
    }
   ],
   "source": [
    "tournament.save()"
   ]
  },
  {
   "cell_type": "code",
   "execution_count": 5,
   "metadata": {},
   "outputs": [
    {
     "ename": "TypeError",
     "evalue": "'NoneType' object is not iterable",
     "output_type": "error",
     "traceback": [
      "\u001b[0;31m---------------------------------------------------------------------------\u001b[0m",
      "\u001b[0;31mTypeError\u001b[0m                                 Traceback (most recent call last)",
      "Cell \u001b[0;32mIn[5], line 3\u001b[0m\n\u001b[1;32m      1\u001b[0m \u001b[38;5;66;03m# Create instance by save\u001b[39;00m\n\u001b[1;32m      2\u001b[0m tournament \u001b[38;5;241m=\u001b[39m Tournament(name\u001b[38;5;241m=\u001b[39m\u001b[38;5;124m'\u001b[39m\u001b[38;5;124mNew Tournament\u001b[39m\u001b[38;5;124m'\u001b[39m)\n\u001b[0;32m----> 3\u001b[0m \u001b[38;5;28;01mawait\u001b[39;00m tournament\u001b[38;5;241m.\u001b[39msave()\n\u001b[1;32m      5\u001b[0m \u001b[38;5;66;03m# Or by .create()\u001b[39;00m\n\u001b[1;32m      6\u001b[0m \u001b[38;5;28;01mawait\u001b[39;00m Event\u001b[38;5;241m.\u001b[39mcreate(name\u001b[38;5;241m=\u001b[39m\u001b[38;5;124m'\u001b[39m\u001b[38;5;124mWithout participants\u001b[39m\u001b[38;5;124m'\u001b[39m, tournament\u001b[38;5;241m=\u001b[39mtournament)\n",
      "File \u001b[0;32m/opt/miniconda3/envs/internet-of-trams/lib/python3.9/site-packages/tortoise/models.py:924\u001b[0m, in \u001b[0;36mModel.save\u001b[0;34m(self, using_db, update_fields, force_create, force_update)\u001b[0m\n\u001b[1;32m    903\u001b[0m \u001b[38;5;28;01masync\u001b[39;00m \u001b[38;5;28;01mdef\u001b[39;00m \u001b[38;5;21msave\u001b[39m(\n\u001b[1;32m    904\u001b[0m     \u001b[38;5;28mself\u001b[39m,\n\u001b[1;32m    905\u001b[0m     using_db: Optional[BaseDBAsyncClient] \u001b[38;5;241m=\u001b[39m \u001b[38;5;28;01mNone\u001b[39;00m,\n\u001b[0;32m   (...)\u001b[0m\n\u001b[1;32m    908\u001b[0m     force_update: \u001b[38;5;28mbool\u001b[39m \u001b[38;5;241m=\u001b[39m \u001b[38;5;28;01mFalse\u001b[39;00m,\n\u001b[1;32m    909\u001b[0m ) \u001b[38;5;241m-\u001b[39m\u001b[38;5;241m>\u001b[39m \u001b[38;5;28;01mNone\u001b[39;00m:\n\u001b[1;32m    910\u001b[0m \u001b[38;5;250m    \u001b[39m\u001b[38;5;124;03m\"\"\"\u001b[39;00m\n\u001b[1;32m    911\u001b[0m \u001b[38;5;124;03m    Creates/Updates the current model object.\u001b[39;00m\n\u001b[1;32m    912\u001b[0m \n\u001b[0;32m   (...)\u001b[0m\n\u001b[1;32m    922\u001b[0m \u001b[38;5;124;03m    :raises IntegrityError: If the model can't be created or updated (specifically if force_create or force_update has been set)\u001b[39;00m\n\u001b[1;32m    923\u001b[0m \u001b[38;5;124;03m    \"\"\"\u001b[39;00m\n\u001b[0;32m--> 924\u001b[0m     db \u001b[38;5;241m=\u001b[39m using_db \u001b[38;5;129;01mor\u001b[39;00m \u001b[38;5;28;43mself\u001b[39;49m\u001b[38;5;241;43m.\u001b[39;49m\u001b[43m_choose_db\u001b[49m\u001b[43m(\u001b[49m\u001b[38;5;28;43;01mTrue\u001b[39;49;00m\u001b[43m)\u001b[49m\n\u001b[1;32m    925\u001b[0m     executor \u001b[38;5;241m=\u001b[39m db\u001b[38;5;241m.\u001b[39mexecutor_class(model\u001b[38;5;241m=\u001b[39m\u001b[38;5;28mself\u001b[39m\u001b[38;5;241m.\u001b[39m\u001b[38;5;18m__class__\u001b[39m, db\u001b[38;5;241m=\u001b[39mdb)\n\u001b[1;32m    926\u001b[0m     \u001b[38;5;28;01mif\u001b[39;00m \u001b[38;5;28mself\u001b[39m\u001b[38;5;241m.\u001b[39m_partial:\n",
      "File \u001b[0;32m/opt/miniconda3/envs/internet-of-trams/lib/python3.9/site-packages/tortoise/models.py:1032\u001b[0m, in \u001b[0;36mModel._choose_db\u001b[0;34m(cls, for_write)\u001b[0m\n\u001b[1;32m   1025\u001b[0m \u001b[38;5;250m\u001b[39m\u001b[38;5;124;03m\"\"\"\u001b[39;00m\n\u001b[1;32m   1026\u001b[0m \u001b[38;5;124;03mReturn the connection that will be used if this query is executed now.\u001b[39;00m\n\u001b[1;32m   1027\u001b[0m \n\u001b[1;32m   1028\u001b[0m \u001b[38;5;124;03m:param for_write: Whether this query for write.\u001b[39;00m\n\u001b[1;32m   1029\u001b[0m \u001b[38;5;124;03m:return: BaseDBAsyncClient:\u001b[39;00m\n\u001b[1;32m   1030\u001b[0m \u001b[38;5;124;03m\"\"\"\u001b[39;00m\n\u001b[1;32m   1031\u001b[0m \u001b[38;5;28;01mif\u001b[39;00m for_write:\n\u001b[0;32m-> 1032\u001b[0m     db \u001b[38;5;241m=\u001b[39m \u001b[43mrouter\u001b[49m\u001b[38;5;241;43m.\u001b[39;49m\u001b[43mdb_for_write\u001b[49m\u001b[43m(\u001b[49m\u001b[38;5;28;43mcls\u001b[39;49m\u001b[43m)\u001b[49m\n\u001b[1;32m   1033\u001b[0m \u001b[38;5;28;01melse\u001b[39;00m:\n\u001b[1;32m   1034\u001b[0m     db \u001b[38;5;241m=\u001b[39m router\u001b[38;5;241m.\u001b[39mdb_for_read(\u001b[38;5;28mcls\u001b[39m)\n",
      "File \u001b[0;32m/opt/miniconda3/envs/internet-of-trams/lib/python3.9/site-packages/tortoise/router.py:39\u001b[0m, in \u001b[0;36mConnectionRouter.db_for_write\u001b[0;34m(self, model)\u001b[0m\n\u001b[1;32m     38\u001b[0m \u001b[38;5;28;01mdef\u001b[39;00m \u001b[38;5;21mdb_for_write\u001b[39m(\u001b[38;5;28mself\u001b[39m, model: Type[\u001b[38;5;124m\"\u001b[39m\u001b[38;5;124mModel\u001b[39m\u001b[38;5;124m\"\u001b[39m]) \u001b[38;5;241m-\u001b[39m\u001b[38;5;241m>\u001b[39m Optional[\u001b[38;5;124m\"\u001b[39m\u001b[38;5;124mBaseDBAsyncClient\u001b[39m\u001b[38;5;124m\"\u001b[39m]:\n\u001b[0;32m---> 39\u001b[0m     \u001b[38;5;28;01mreturn\u001b[39;00m \u001b[38;5;28;43mself\u001b[39;49m\u001b[38;5;241;43m.\u001b[39;49m\u001b[43m_db_route\u001b[49m\u001b[43m(\u001b[49m\u001b[43mmodel\u001b[49m\u001b[43m,\u001b[49m\u001b[43m \u001b[49m\u001b[38;5;124;43m\"\u001b[39;49m\u001b[38;5;124;43mdb_for_write\u001b[39;49m\u001b[38;5;124;43m\"\u001b[39;49m\u001b[43m)\u001b[49m\n",
      "File \u001b[0;32m/opt/miniconda3/envs/internet-of-trams/lib/python3.9/site-packages/tortoise/router.py:31\u001b[0m, in \u001b[0;36mConnectionRouter._db_route\u001b[0;34m(self, model, action)\u001b[0m\n\u001b[1;32m     29\u001b[0m \u001b[38;5;28;01mdef\u001b[39;00m \u001b[38;5;21m_db_route\u001b[39m(\u001b[38;5;28mself\u001b[39m, model: Type[\u001b[38;5;124m\"\u001b[39m\u001b[38;5;124mModel\u001b[39m\u001b[38;5;124m\"\u001b[39m], action: \u001b[38;5;28mstr\u001b[39m):\n\u001b[1;32m     30\u001b[0m     \u001b[38;5;28;01mtry\u001b[39;00m:\n\u001b[0;32m---> 31\u001b[0m         \u001b[38;5;28;01mreturn\u001b[39;00m connections\u001b[38;5;241m.\u001b[39mget(\u001b[38;5;28;43mself\u001b[39;49m\u001b[38;5;241;43m.\u001b[39;49m\u001b[43m_router_func\u001b[49m\u001b[43m(\u001b[49m\u001b[43mmodel\u001b[49m\u001b[43m,\u001b[49m\u001b[43m \u001b[49m\u001b[43maction\u001b[49m\u001b[43m)\u001b[49m)\n\u001b[1;32m     32\u001b[0m     \u001b[38;5;28;01mexcept\u001b[39;00m ConfigurationError:\n\u001b[1;32m     33\u001b[0m         \u001b[38;5;28;01mreturn\u001b[39;00m \u001b[38;5;28;01mNone\u001b[39;00m\n",
      "File \u001b[0;32m/opt/miniconda3/envs/internet-of-trams/lib/python3.9/site-packages/tortoise/router.py:18\u001b[0m, in \u001b[0;36mConnectionRouter._router_func\u001b[0;34m(self, model, action)\u001b[0m\n\u001b[1;32m     17\u001b[0m \u001b[38;5;28;01mdef\u001b[39;00m \u001b[38;5;21m_router_func\u001b[39m(\u001b[38;5;28mself\u001b[39m, model: Type[\u001b[38;5;124m\"\u001b[39m\u001b[38;5;124mModel\u001b[39m\u001b[38;5;124m\"\u001b[39m], action: \u001b[38;5;28mstr\u001b[39m):\n\u001b[0;32m---> 18\u001b[0m     \u001b[38;5;28;01mfor\u001b[39;00m r \u001b[38;5;129;01min\u001b[39;00m \u001b[38;5;28mself\u001b[39m\u001b[38;5;241m.\u001b[39m_routers:\n\u001b[1;32m     19\u001b[0m         \u001b[38;5;28;01mtry\u001b[39;00m:\n\u001b[1;32m     20\u001b[0m             method \u001b[38;5;241m=\u001b[39m \u001b[38;5;28mgetattr\u001b[39m(r, action)\n",
      "\u001b[0;31mTypeError\u001b[0m: 'NoneType' object is not iterable"
     ]
    }
   ],
   "source": [
    "# Create instance by save\n",
    "tournament = Tournament(name='New Tournament')\n",
    "await tournament.save()\n",
    "\n",
    "# Or by .create()\n",
    "await Event.create(name='Without participants', tournament=tournament)\n",
    "event = await Event.create(name='Test', tournament=tournament)\n",
    "participants = []\n",
    "for i in range(2):\n",
    "    team = await Team.create(name='Team {}'.format(i + 1))\n",
    "    participants.append(team)\n",
    "\n",
    "# M2M Relationship management is quite straightforward\n",
    "# (also look for methods .remove(...) and .clear())\n",
    "await event.participants.add(*participants)\n",
    "\n",
    "# You can query a related entity with async for\n",
    "async for team in event.participants:\n",
    "    pass\n",
    "\n",
    "# After making a related query you can iterate with regular for,\n",
    "# which can be extremely convenient when using it with other packages,\n",
    "# for example some kind of serializers with nested support\n",
    "for team in event.participants:\n",
    "    pass\n",
    "\n",
    "\n",
    "# Or you can make a preemptive call to fetch related objects\n",
    "selected_events = await Event.filter(\n",
    "    participants=participants[0].id\n",
    ").prefetch_related('participants', 'tournament')\n",
    "\n",
    "# Tortoise supports variable depth of prefetching related entities\n",
    "# This will fetch all events for Team and in those events tournaments will be prefetched\n",
    "await Team.all().prefetch_related('events__tournament')\n",
    "\n",
    "# You can filter and order by related models too\n",
    "await Tournament.filter(\n",
    "    events__name__in=['Test', 'Prod']\n",
    ").order_by('-events__participants__name').distinct()"
   ]
  },
  {
   "cell_type": "code",
   "execution_count": 21,
   "metadata": {},
   "outputs": [
    {
     "ename": "ImportError",
     "evalue": "cannot import name 'run_async' from 'tortoise' (/opt/miniconda3/envs/internet-of-trams/lib/python3.9/site-packages/tortoise/__init__.py)",
     "output_type": "error",
     "traceback": [
      "\u001b[0;31m---------------------------------------------------------------------------\u001b[0m",
      "\u001b[0;31mImportError\u001b[0m                               Traceback (most recent call last)",
      "Cell \u001b[0;32mIn[21], line 1\u001b[0m\n\u001b[0;32m----> 1\u001b[0m \u001b[38;5;28;01mfrom\u001b[39;00m \u001b[38;5;21;01mtortoise\u001b[39;00m \u001b[38;5;28;01mimport\u001b[39;00m Tortoise, run_async\n\u001b[1;32m      3\u001b[0m \u001b[38;5;28;01masync\u001b[39;00m \u001b[38;5;28;01mdef\u001b[39;00m \u001b[38;5;21minit\u001b[39m():\n\u001b[1;32m      4\u001b[0m     \u001b[38;5;66;03m# Here we create a SQLite DB using file \"db.sqlite3\"\u001b[39;00m\n\u001b[1;32m      5\u001b[0m     \u001b[38;5;66;03m#  also specify the app name of \"models\"\u001b[39;00m\n\u001b[1;32m      6\u001b[0m     \u001b[38;5;66;03m#  which contain models from \"app.models\"\u001b[39;00m\n\u001b[1;32m      7\u001b[0m     \u001b[38;5;28;01mawait\u001b[39;00m Tortoise\u001b[38;5;241m.\u001b[39minit(\n\u001b[1;32m      8\u001b[0m         db_url\u001b[38;5;241m=\u001b[39m\u001b[38;5;124m'\u001b[39m\u001b[38;5;124msqlite://db.sqlite3\u001b[39m\u001b[38;5;124m'\u001b[39m,\n\u001b[1;32m      9\u001b[0m         modules\u001b[38;5;241m=\u001b[39m{\u001b[38;5;124m'\u001b[39m\u001b[38;5;124mmodels\u001b[39m\u001b[38;5;124m'\u001b[39m: [\u001b[38;5;124m'\u001b[39m\u001b[38;5;124mapp.models\u001b[39m\u001b[38;5;124m'\u001b[39m]}\n\u001b[1;32m     10\u001b[0m     )\n",
      "\u001b[0;31mImportError\u001b[0m: cannot import name 'run_async' from 'tortoise' (/opt/miniconda3/envs/internet-of-trams/lib/python3.9/site-packages/tortoise/__init__.py)"
     ]
    }
   ],
   "source": [
    "from tortoise import Tortoise, run_async\n",
    "\n",
    "async def init():\n",
    "    # Here we create a SQLite DB using file \"db.sqlite3\"\n",
    "    #  also specify the app name of \"models\"\n",
    "    #  which contain models from \"app.models\"\n",
    "    await Tortoise.init(\n",
    "        db_url='sqlite://db.sqlite3',\n",
    "        modules={'models': ['app.models']}\n",
    "    )\n",
    "    # Generate the schema\n",
    "    await Tortoise.generate_schemas()\n",
    "\n",
    "# run_async is a helper function to run simple async Tortoise scripts.\n",
    "run_async(init())"
   ]
  },
  {
   "cell_type": "code",
   "execution_count": 19,
   "metadata": {},
   "outputs": [],
   "source": [
    "query = \"\"\"\n",
    "CREATE TABLE IF NOT EXISTS\n",
    "\tsys.trams\n",
    "\t(tram_id INT(10)\n",
    "    ,tram_name VARCHAR (20)\n",
    "    ,line INT(5))\n",
    "    \"\"\"\n",
    "\n",
    "cursor.execute(query)"
   ]
  },
  {
   "cell_type": "code",
   "execution_count": 18,
   "metadata": {},
   "outputs": [],
   "source": [
    "query = \"\"\"\n",
    "DROP TABLE sys.trams\n",
    "    \"\"\"\n",
    "\n",
    "cursor.execute(query)"
   ]
  },
  {
   "cell_type": "code",
   "execution_count": 3,
   "metadata": {},
   "outputs": [
    {
     "name": "stdout",
     "output_type": "stream",
     "text": [
      "ConsumerRecord(topic='quickstart', partition=0, offset=1894, timestamp=1710001039679, timestamp_type=0, key=None, value=b'infromacja0', headers=[], checksum=None, serialized_key_size=-1, serialized_value_size=11, serialized_header_size=-1)\n",
      "ConsumerRecord(topic='quickstart', partition=0, offset=1895, timestamp=1710001039679, timestamp_type=0, key=None, value=b'infromacja1', headers=[], checksum=None, serialized_key_size=-1, serialized_value_size=11, serialized_header_size=-1)\n",
      "ConsumerRecord(topic='quickstart', partition=0, offset=1896, timestamp=1710001039679, timestamp_type=0, key=None, value=b'infromacja2', headers=[], checksum=None, serialized_key_size=-1, serialized_value_size=11, serialized_header_size=-1)\n",
      "ConsumerRecord(topic='quickstart', partition=0, offset=1897, timestamp=1710001039679, timestamp_type=0, key=None, value=b'infromacja3', headers=[], checksum=None, serialized_key_size=-1, serialized_value_size=11, serialized_header_size=-1)\n",
      "ConsumerRecord(topic='quickstart', partition=0, offset=1898, timestamp=1710001039679, timestamp_type=0, key=None, value=b'infromacja4', headers=[], checksum=None, serialized_key_size=-1, serialized_value_size=11, serialized_header_size=-1)\n",
      "ConsumerRecord(topic='quickstart', partition=0, offset=1899, timestamp=1710001039679, timestamp_type=0, key=None, value=b'infromacja5', headers=[], checksum=None, serialized_key_size=-1, serialized_value_size=11, serialized_header_size=-1)\n",
      "ConsumerRecord(topic='quickstart', partition=0, offset=1900, timestamp=1710001039679, timestamp_type=0, key=None, value=b'infromacja6', headers=[], checksum=None, serialized_key_size=-1, serialized_value_size=11, serialized_header_size=-1)\n",
      "ConsumerRecord(topic='quickstart', partition=0, offset=1901, timestamp=1710001039680, timestamp_type=0, key=None, value=b'infromacja7', headers=[], checksum=None, serialized_key_size=-1, serialized_value_size=11, serialized_header_size=-1)\n",
      "ConsumerRecord(topic='quickstart', partition=0, offset=1902, timestamp=1710001039680, timestamp_type=0, key=None, value=b'infromacja8', headers=[], checksum=None, serialized_key_size=-1, serialized_value_size=11, serialized_header_size=-1)\n",
      "ConsumerRecord(topic='quickstart', partition=0, offset=1903, timestamp=1710001039680, timestamp_type=0, key=None, value=b'infromacja9', headers=[], checksum=None, serialized_key_size=-1, serialized_value_size=11, serialized_header_size=-1)\n",
      "ConsumerRecord(topic='quickstart', partition=0, offset=1904, timestamp=1710001039680, timestamp_type=0, key=None, value=b'infromacja10', headers=[], checksum=None, serialized_key_size=-1, serialized_value_size=12, serialized_header_size=-1)\n",
      "ConsumerRecord(topic='quickstart', partition=0, offset=1905, timestamp=1710001039680, timestamp_type=0, key=None, value=b'infromacja11', headers=[], checksum=None, serialized_key_size=-1, serialized_value_size=12, serialized_header_size=-1)\n",
      "ConsumerRecord(topic='quickstart', partition=0, offset=1906, timestamp=1710001039680, timestamp_type=0, key=None, value=b'infromacja12', headers=[], checksum=None, serialized_key_size=-1, serialized_value_size=12, serialized_header_size=-1)\n",
      "ConsumerRecord(topic='quickstart', partition=0, offset=1907, timestamp=1710001039680, timestamp_type=0, key=None, value=b'infromacja13', headers=[], checksum=None, serialized_key_size=-1, serialized_value_size=12, serialized_header_size=-1)\n",
      "ConsumerRecord(topic='quickstart', partition=0, offset=1908, timestamp=1710001039680, timestamp_type=0, key=None, value=b'infromacja14', headers=[], checksum=None, serialized_key_size=-1, serialized_value_size=12, serialized_header_size=-1)\n",
      "ConsumerRecord(topic='quickstart', partition=0, offset=1909, timestamp=1710001039680, timestamp_type=0, key=None, value=b'infromacja15', headers=[], checksum=None, serialized_key_size=-1, serialized_value_size=12, serialized_header_size=-1)\n",
      "ConsumerRecord(topic='quickstart', partition=0, offset=1910, timestamp=1710001039680, timestamp_type=0, key=None, value=b'infromacja16', headers=[], checksum=None, serialized_key_size=-1, serialized_value_size=12, serialized_header_size=-1)\n",
      "ConsumerRecord(topic='quickstart', partition=0, offset=1911, timestamp=1710001039680, timestamp_type=0, key=None, value=b'infromacja17', headers=[], checksum=None, serialized_key_size=-1, serialized_value_size=12, serialized_header_size=-1)\n",
      "ConsumerRecord(topic='quickstart', partition=0, offset=1912, timestamp=1710001039680, timestamp_type=0, key=None, value=b'infromacja18', headers=[], checksum=None, serialized_key_size=-1, serialized_value_size=12, serialized_header_size=-1)\n",
      "ConsumerRecord(topic='quickstart', partition=0, offset=1913, timestamp=1710001039680, timestamp_type=0, key=None, value=b'infromacja19', headers=[], checksum=None, serialized_key_size=-1, serialized_value_size=12, serialized_header_size=-1)\n",
      "ConsumerRecord(topic='quickstart', partition=0, offset=1914, timestamp=1710001039680, timestamp_type=0, key=None, value=b'infromacja20', headers=[], checksum=None, serialized_key_size=-1, serialized_value_size=12, serialized_header_size=-1)\n",
      "ConsumerRecord(topic='quickstart', partition=0, offset=1915, timestamp=1710001039680, timestamp_type=0, key=None, value=b'infromacja21', headers=[], checksum=None, serialized_key_size=-1, serialized_value_size=12, serialized_header_size=-1)\n",
      "ConsumerRecord(topic='quickstart', partition=0, offset=1916, timestamp=1710001039680, timestamp_type=0, key=None, value=b'infromacja22', headers=[], checksum=None, serialized_key_size=-1, serialized_value_size=12, serialized_header_size=-1)\n",
      "ConsumerRecord(topic='quickstart', partition=0, offset=1917, timestamp=1710001039680, timestamp_type=0, key=None, value=b'infromacja23', headers=[], checksum=None, serialized_key_size=-1, serialized_value_size=12, serialized_header_size=-1)\n",
      "ConsumerRecord(topic='quickstart', partition=0, offset=1918, timestamp=1710001039680, timestamp_type=0, key=None, value=b'infromacja24', headers=[], checksum=None, serialized_key_size=-1, serialized_value_size=12, serialized_header_size=-1)\n",
      "ConsumerRecord(topic='quickstart', partition=0, offset=1919, timestamp=1710001039680, timestamp_type=0, key=None, value=b'infromacja25', headers=[], checksum=None, serialized_key_size=-1, serialized_value_size=12, serialized_header_size=-1)\n",
      "ConsumerRecord(topic='quickstart', partition=0, offset=1920, timestamp=1710001039680, timestamp_type=0, key=None, value=b'infromacja26', headers=[], checksum=None, serialized_key_size=-1, serialized_value_size=12, serialized_header_size=-1)\n",
      "ConsumerRecord(topic='quickstart', partition=0, offset=1921, timestamp=1710001039680, timestamp_type=0, key=None, value=b'infromacja27', headers=[], checksum=None, serialized_key_size=-1, serialized_value_size=12, serialized_header_size=-1)\n",
      "ConsumerRecord(topic='quickstart', partition=0, offset=1922, timestamp=1710001039680, timestamp_type=0, key=None, value=b'infromacja28', headers=[], checksum=None, serialized_key_size=-1, serialized_value_size=12, serialized_header_size=-1)\n",
      "ConsumerRecord(topic='quickstart', partition=0, offset=1923, timestamp=1710001039680, timestamp_type=0, key=None, value=b'infromacja29', headers=[], checksum=None, serialized_key_size=-1, serialized_value_size=12, serialized_header_size=-1)\n",
      "ConsumerRecord(topic='quickstart', partition=0, offset=1924, timestamp=1710001039680, timestamp_type=0, key=None, value=b'infromacja30', headers=[], checksum=None, serialized_key_size=-1, serialized_value_size=12, serialized_header_size=-1)\n",
      "ConsumerRecord(topic='quickstart', partition=0, offset=1925, timestamp=1710001039680, timestamp_type=0, key=None, value=b'infromacja31', headers=[], checksum=None, serialized_key_size=-1, serialized_value_size=12, serialized_header_size=-1)\n",
      "ConsumerRecord(topic='quickstart', partition=0, offset=1926, timestamp=1710001039680, timestamp_type=0, key=None, value=b'infromacja32', headers=[], checksum=None, serialized_key_size=-1, serialized_value_size=12, serialized_header_size=-1)\n",
      "ConsumerRecord(topic='quickstart', partition=0, offset=1927, timestamp=1710001039680, timestamp_type=0, key=None, value=b'infromacja33', headers=[], checksum=None, serialized_key_size=-1, serialized_value_size=12, serialized_header_size=-1)\n",
      "ConsumerRecord(topic='quickstart', partition=0, offset=1928, timestamp=1710001039680, timestamp_type=0, key=None, value=b'infromacja34', headers=[], checksum=None, serialized_key_size=-1, serialized_value_size=12, serialized_header_size=-1)\n",
      "ConsumerRecord(topic='quickstart', partition=0, offset=1929, timestamp=1710001039680, timestamp_type=0, key=None, value=b'infromacja35', headers=[], checksum=None, serialized_key_size=-1, serialized_value_size=12, serialized_header_size=-1)\n",
      "ConsumerRecord(topic='quickstart', partition=0, offset=1930, timestamp=1710001039680, timestamp_type=0, key=None, value=b'infromacja36', headers=[], checksum=None, serialized_key_size=-1, serialized_value_size=12, serialized_header_size=-1)\n",
      "ConsumerRecord(topic='quickstart', partition=0, offset=1931, timestamp=1710001039680, timestamp_type=0, key=None, value=b'infromacja37', headers=[], checksum=None, serialized_key_size=-1, serialized_value_size=12, serialized_header_size=-1)\n",
      "ConsumerRecord(topic='quickstart', partition=0, offset=1932, timestamp=1710001039680, timestamp_type=0, key=None, value=b'infromacja38', headers=[], checksum=None, serialized_key_size=-1, serialized_value_size=12, serialized_header_size=-1)\n",
      "ConsumerRecord(topic='quickstart', partition=0, offset=1933, timestamp=1710001039680, timestamp_type=0, key=None, value=b'infromacja39', headers=[], checksum=None, serialized_key_size=-1, serialized_value_size=12, serialized_header_size=-1)\n",
      "ConsumerRecord(topic='quickstart', partition=0, offset=1934, timestamp=1710001039680, timestamp_type=0, key=None, value=b'infromacja40', headers=[], checksum=None, serialized_key_size=-1, serialized_value_size=12, serialized_header_size=-1)\n",
      "ConsumerRecord(topic='quickstart', partition=0, offset=1935, timestamp=1710001039681, timestamp_type=0, key=None, value=b'infromacja41', headers=[], checksum=None, serialized_key_size=-1, serialized_value_size=12, serialized_header_size=-1)\n",
      "ConsumerRecord(topic='quickstart', partition=0, offset=1936, timestamp=1710001039681, timestamp_type=0, key=None, value=b'infromacja42', headers=[], checksum=None, serialized_key_size=-1, serialized_value_size=12, serialized_header_size=-1)\n",
      "ConsumerRecord(topic='quickstart', partition=0, offset=1937, timestamp=1710001039681, timestamp_type=0, key=None, value=b'infromacja43', headers=[], checksum=None, serialized_key_size=-1, serialized_value_size=12, serialized_header_size=-1)\n",
      "ConsumerRecord(topic='quickstart', partition=0, offset=1938, timestamp=1710001039681, timestamp_type=0, key=None, value=b'infromacja44', headers=[], checksum=None, serialized_key_size=-1, serialized_value_size=12, serialized_header_size=-1)\n",
      "ConsumerRecord(topic='quickstart', partition=0, offset=1939, timestamp=1710001039681, timestamp_type=0, key=None, value=b'infromacja45', headers=[], checksum=None, serialized_key_size=-1, serialized_value_size=12, serialized_header_size=-1)\n",
      "ConsumerRecord(topic='quickstart', partition=0, offset=1940, timestamp=1710001039681, timestamp_type=0, key=None, value=b'infromacja46', headers=[], checksum=None, serialized_key_size=-1, serialized_value_size=12, serialized_header_size=-1)\n",
      "ConsumerRecord(topic='quickstart', partition=0, offset=1941, timestamp=1710001039681, timestamp_type=0, key=None, value=b'infromacja47', headers=[], checksum=None, serialized_key_size=-1, serialized_value_size=12, serialized_header_size=-1)\n",
      "ConsumerRecord(topic='quickstart', partition=0, offset=1942, timestamp=1710001039681, timestamp_type=0, key=None, value=b'infromacja48', headers=[], checksum=None, serialized_key_size=-1, serialized_value_size=12, serialized_header_size=-1)\n",
      "ConsumerRecord(topic='quickstart', partition=0, offset=1943, timestamp=1710001039681, timestamp_type=0, key=None, value=b'infromacja49', headers=[], checksum=None, serialized_key_size=-1, serialized_value_size=12, serialized_header_size=-1)\n",
      "ConsumerRecord(topic='quickstart', partition=0, offset=1944, timestamp=1710001039681, timestamp_type=0, key=None, value=b'infromacja50', headers=[], checksum=None, serialized_key_size=-1, serialized_value_size=12, serialized_header_size=-1)\n",
      "ConsumerRecord(topic='quickstart', partition=0, offset=1945, timestamp=1710001039681, timestamp_type=0, key=None, value=b'infromacja51', headers=[], checksum=None, serialized_key_size=-1, serialized_value_size=12, serialized_header_size=-1)\n",
      "ConsumerRecord(topic='quickstart', partition=0, offset=1946, timestamp=1710001039681, timestamp_type=0, key=None, value=b'infromacja52', headers=[], checksum=None, serialized_key_size=-1, serialized_value_size=12, serialized_header_size=-1)\n",
      "ConsumerRecord(topic='quickstart', partition=0, offset=1947, timestamp=1710001039681, timestamp_type=0, key=None, value=b'infromacja53', headers=[], checksum=None, serialized_key_size=-1, serialized_value_size=12, serialized_header_size=-1)\n",
      "ConsumerRecord(topic='quickstart', partition=0, offset=1948, timestamp=1710001039681, timestamp_type=0, key=None, value=b'infromacja54', headers=[], checksum=None, serialized_key_size=-1, serialized_value_size=12, serialized_header_size=-1)\n",
      "ConsumerRecord(topic='quickstart', partition=0, offset=1949, timestamp=1710001039681, timestamp_type=0, key=None, value=b'infromacja55', headers=[], checksum=None, serialized_key_size=-1, serialized_value_size=12, serialized_header_size=-1)\n",
      "ConsumerRecord(topic='quickstart', partition=0, offset=1950, timestamp=1710001039681, timestamp_type=0, key=None, value=b'infromacja56', headers=[], checksum=None, serialized_key_size=-1, serialized_value_size=12, serialized_header_size=-1)\n",
      "ConsumerRecord(topic='quickstart', partition=0, offset=1951, timestamp=1710001039681, timestamp_type=0, key=None, value=b'infromacja57', headers=[], checksum=None, serialized_key_size=-1, serialized_value_size=12, serialized_header_size=-1)\n",
      "ConsumerRecord(topic='quickstart', partition=0, offset=1952, timestamp=1710001039681, timestamp_type=0, key=None, value=b'infromacja58', headers=[], checksum=None, serialized_key_size=-1, serialized_value_size=12, serialized_header_size=-1)\n",
      "ConsumerRecord(topic='quickstart', partition=0, offset=1953, timestamp=1710001039681, timestamp_type=0, key=None, value=b'infromacja59', headers=[], checksum=None, serialized_key_size=-1, serialized_value_size=12, serialized_header_size=-1)\n",
      "ConsumerRecord(topic='quickstart', partition=0, offset=1954, timestamp=1710001039681, timestamp_type=0, key=None, value=b'infromacja60', headers=[], checksum=None, serialized_key_size=-1, serialized_value_size=12, serialized_header_size=-1)\n",
      "ConsumerRecord(topic='quickstart', partition=0, offset=1955, timestamp=1710001039681, timestamp_type=0, key=None, value=b'infromacja61', headers=[], checksum=None, serialized_key_size=-1, serialized_value_size=12, serialized_header_size=-1)\n",
      "ConsumerRecord(topic='quickstart', partition=0, offset=1956, timestamp=1710001039681, timestamp_type=0, key=None, value=b'infromacja62', headers=[], checksum=None, serialized_key_size=-1, serialized_value_size=12, serialized_header_size=-1)\n",
      "ConsumerRecord(topic='quickstart', partition=0, offset=1957, timestamp=1710001039681, timestamp_type=0, key=None, value=b'infromacja63', headers=[], checksum=None, serialized_key_size=-1, serialized_value_size=12, serialized_header_size=-1)\n",
      "ConsumerRecord(topic='quickstart', partition=0, offset=1958, timestamp=1710001039681, timestamp_type=0, key=None, value=b'infromacja64', headers=[], checksum=None, serialized_key_size=-1, serialized_value_size=12, serialized_header_size=-1)\n",
      "ConsumerRecord(topic='quickstart', partition=0, offset=1959, timestamp=1710001039681, timestamp_type=0, key=None, value=b'infromacja65', headers=[], checksum=None, serialized_key_size=-1, serialized_value_size=12, serialized_header_size=-1)\n",
      "ConsumerRecord(topic='quickstart', partition=0, offset=1960, timestamp=1710001039681, timestamp_type=0, key=None, value=b'infromacja66', headers=[], checksum=None, serialized_key_size=-1, serialized_value_size=12, serialized_header_size=-1)\n",
      "ConsumerRecord(topic='quickstart', partition=0, offset=1961, timestamp=1710001039681, timestamp_type=0, key=None, value=b'infromacja67', headers=[], checksum=None, serialized_key_size=-1, serialized_value_size=12, serialized_header_size=-1)\n",
      "ConsumerRecord(topic='quickstart', partition=0, offset=1962, timestamp=1710001039681, timestamp_type=0, key=None, value=b'infromacja68', headers=[], checksum=None, serialized_key_size=-1, serialized_value_size=12, serialized_header_size=-1)\n",
      "ConsumerRecord(topic='quickstart', partition=0, offset=1963, timestamp=1710001039681, timestamp_type=0, key=None, value=b'infromacja69', headers=[], checksum=None, serialized_key_size=-1, serialized_value_size=12, serialized_header_size=-1)\n",
      "ConsumerRecord(topic='quickstart', partition=0, offset=1964, timestamp=1710001039681, timestamp_type=0, key=None, value=b'infromacja70', headers=[], checksum=None, serialized_key_size=-1, serialized_value_size=12, serialized_header_size=-1)\n",
      "ConsumerRecord(topic='quickstart', partition=0, offset=1965, timestamp=1710001039681, timestamp_type=0, key=None, value=b'infromacja71', headers=[], checksum=None, serialized_key_size=-1, serialized_value_size=12, serialized_header_size=-1)\n",
      "ConsumerRecord(topic='quickstart', partition=0, offset=1966, timestamp=1710001039681, timestamp_type=0, key=None, value=b'infromacja72', headers=[], checksum=None, serialized_key_size=-1, serialized_value_size=12, serialized_header_size=-1)\n",
      "ConsumerRecord(topic='quickstart', partition=0, offset=1967, timestamp=1710001039681, timestamp_type=0, key=None, value=b'infromacja73', headers=[], checksum=None, serialized_key_size=-1, serialized_value_size=12, serialized_header_size=-1)\n",
      "ConsumerRecord(topic='quickstart', partition=0, offset=1968, timestamp=1710001039682, timestamp_type=0, key=None, value=b'infromacja74', headers=[], checksum=None, serialized_key_size=-1, serialized_value_size=12, serialized_header_size=-1)\n",
      "ConsumerRecord(topic='quickstart', partition=0, offset=1969, timestamp=1710001039682, timestamp_type=0, key=None, value=b'infromacja75', headers=[], checksum=None, serialized_key_size=-1, serialized_value_size=12, serialized_header_size=-1)\n",
      "ConsumerRecord(topic='quickstart', partition=0, offset=1970, timestamp=1710001039682, timestamp_type=0, key=None, value=b'infromacja76', headers=[], checksum=None, serialized_key_size=-1, serialized_value_size=12, serialized_header_size=-1)\n",
      "ConsumerRecord(topic='quickstart', partition=0, offset=1971, timestamp=1710001039682, timestamp_type=0, key=None, value=b'infromacja77', headers=[], checksum=None, serialized_key_size=-1, serialized_value_size=12, serialized_header_size=-1)\n",
      "ConsumerRecord(topic='quickstart', partition=0, offset=1972, timestamp=1710001039682, timestamp_type=0, key=None, value=b'infromacja78', headers=[], checksum=None, serialized_key_size=-1, serialized_value_size=12, serialized_header_size=-1)\n",
      "ConsumerRecord(topic='quickstart', partition=0, offset=1973, timestamp=1710001039682, timestamp_type=0, key=None, value=b'infromacja79', headers=[], checksum=None, serialized_key_size=-1, serialized_value_size=12, serialized_header_size=-1)\n",
      "ConsumerRecord(topic='quickstart', partition=0, offset=1974, timestamp=1710001039682, timestamp_type=0, key=None, value=b'infromacja80', headers=[], checksum=None, serialized_key_size=-1, serialized_value_size=12, serialized_header_size=-1)\n",
      "ConsumerRecord(topic='quickstart', partition=0, offset=1975, timestamp=1710001039682, timestamp_type=0, key=None, value=b'infromacja81', headers=[], checksum=None, serialized_key_size=-1, serialized_value_size=12, serialized_header_size=-1)\n",
      "ConsumerRecord(topic='quickstart', partition=0, offset=1976, timestamp=1710001039682, timestamp_type=0, key=None, value=b'infromacja82', headers=[], checksum=None, serialized_key_size=-1, serialized_value_size=12, serialized_header_size=-1)\n",
      "ConsumerRecord(topic='quickstart', partition=0, offset=1977, timestamp=1710001039682, timestamp_type=0, key=None, value=b'infromacja83', headers=[], checksum=None, serialized_key_size=-1, serialized_value_size=12, serialized_header_size=-1)\n",
      "ConsumerRecord(topic='quickstart', partition=0, offset=1978, timestamp=1710001039682, timestamp_type=0, key=None, value=b'infromacja84', headers=[], checksum=None, serialized_key_size=-1, serialized_value_size=12, serialized_header_size=-1)\n",
      "ConsumerRecord(topic='quickstart', partition=0, offset=1979, timestamp=1710001039682, timestamp_type=0, key=None, value=b'infromacja85', headers=[], checksum=None, serialized_key_size=-1, serialized_value_size=12, serialized_header_size=-1)\n",
      "ConsumerRecord(topic='quickstart', partition=0, offset=1980, timestamp=1710001039682, timestamp_type=0, key=None, value=b'infromacja86', headers=[], checksum=None, serialized_key_size=-1, serialized_value_size=12, serialized_header_size=-1)\n",
      "ConsumerRecord(topic='quickstart', partition=0, offset=1981, timestamp=1710001039682, timestamp_type=0, key=None, value=b'infromacja87', headers=[], checksum=None, serialized_key_size=-1, serialized_value_size=12, serialized_header_size=-1)\n",
      "ConsumerRecord(topic='quickstart', partition=0, offset=1982, timestamp=1710001039682, timestamp_type=0, key=None, value=b'infromacja88', headers=[], checksum=None, serialized_key_size=-1, serialized_value_size=12, serialized_header_size=-1)\n",
      "ConsumerRecord(topic='quickstart', partition=0, offset=1983, timestamp=1710001039682, timestamp_type=0, key=None, value=b'infromacja89', headers=[], checksum=None, serialized_key_size=-1, serialized_value_size=12, serialized_header_size=-1)\n",
      "ConsumerRecord(topic='quickstart', partition=0, offset=1984, timestamp=1710001039682, timestamp_type=0, key=None, value=b'infromacja90', headers=[], checksum=None, serialized_key_size=-1, serialized_value_size=12, serialized_header_size=-1)\n",
      "ConsumerRecord(topic='quickstart', partition=0, offset=1985, timestamp=1710001039682, timestamp_type=0, key=None, value=b'infromacja91', headers=[], checksum=None, serialized_key_size=-1, serialized_value_size=12, serialized_header_size=-1)\n",
      "ConsumerRecord(topic='quickstart', partition=0, offset=1986, timestamp=1710001039682, timestamp_type=0, key=None, value=b'infromacja92', headers=[], checksum=None, serialized_key_size=-1, serialized_value_size=12, serialized_header_size=-1)\n",
      "ConsumerRecord(topic='quickstart', partition=0, offset=1987, timestamp=1710001039682, timestamp_type=0, key=None, value=b'infromacja93', headers=[], checksum=None, serialized_key_size=-1, serialized_value_size=12, serialized_header_size=-1)\n",
      "ConsumerRecord(topic='quickstart', partition=0, offset=1988, timestamp=1710001039682, timestamp_type=0, key=None, value=b'infromacja94', headers=[], checksum=None, serialized_key_size=-1, serialized_value_size=12, serialized_header_size=-1)\n",
      "ConsumerRecord(topic='quickstart', partition=0, offset=1989, timestamp=1710001039682, timestamp_type=0, key=None, value=b'infromacja95', headers=[], checksum=None, serialized_key_size=-1, serialized_value_size=12, serialized_header_size=-1)\n",
      "ConsumerRecord(topic='quickstart', partition=0, offset=1990, timestamp=1710001039682, timestamp_type=0, key=None, value=b'infromacja96', headers=[], checksum=None, serialized_key_size=-1, serialized_value_size=12, serialized_header_size=-1)\n",
      "ConsumerRecord(topic='quickstart', partition=0, offset=1991, timestamp=1710001039682, timestamp_type=0, key=None, value=b'infromacja97', headers=[], checksum=None, serialized_key_size=-1, serialized_value_size=12, serialized_header_size=-1)\n",
      "ConsumerRecord(topic='quickstart', partition=0, offset=1992, timestamp=1710001039682, timestamp_type=0, key=None, value=b'infromacja98', headers=[], checksum=None, serialized_key_size=-1, serialized_value_size=12, serialized_header_size=-1)\n",
      "ConsumerRecord(topic='quickstart', partition=0, offset=1993, timestamp=1710001039682, timestamp_type=0, key=None, value=b'infromacja99', headers=[], checksum=None, serialized_key_size=-1, serialized_value_size=12, serialized_header_size=-1)\n"
     ]
    },
    {
     "ename": "KeyboardInterrupt",
     "evalue": "",
     "output_type": "error",
     "traceback": [
      "\u001b[0;31m---------------------------------------------------------------------------\u001b[0m",
      "\u001b[0;31mKeyboardInterrupt\u001b[0m                         Traceback (most recent call last)",
      "Cell \u001b[0;32mIn[3], line 4\u001b[0m\n\u001b[1;32m      2\u001b[0m consumer \u001b[38;5;241m=\u001b[39m KafkaConsumer(\u001b[38;5;124m'\u001b[39m\u001b[38;5;124mquickstart\u001b[39m\u001b[38;5;124m'\u001b[39m, auto_offset_reset\u001b[38;5;241m=\u001b[39m\u001b[38;5;124m'\u001b[39m\u001b[38;5;124mlatest\u001b[39m\u001b[38;5;124m'\u001b[39m)\n\u001b[1;32m      3\u001b[0m messages \u001b[38;5;241m=\u001b[39m []\n\u001b[0;32m----> 4\u001b[0m \u001b[38;5;28;01mfor\u001b[39;00m msg \u001b[38;5;129;01min\u001b[39;00m consumer:\n\u001b[1;32m      5\u001b[0m     \u001b[38;5;28mprint\u001b[39m(msg)\n",
      "File \u001b[0;32m/opt/miniconda3/envs/internet-of-trams/lib/python3.9/site-packages/kafka/consumer/group.py:1193\u001b[0m, in \u001b[0;36mKafkaConsumer.__next__\u001b[0;34m(self)\u001b[0m\n\u001b[1;32m   1191\u001b[0m     \u001b[38;5;28;01mreturn\u001b[39;00m \u001b[38;5;28mself\u001b[39m\u001b[38;5;241m.\u001b[39mnext_v1()\n\u001b[1;32m   1192\u001b[0m \u001b[38;5;28;01melse\u001b[39;00m:\n\u001b[0;32m-> 1193\u001b[0m     \u001b[38;5;28;01mreturn\u001b[39;00m \u001b[38;5;28;43mself\u001b[39;49m\u001b[38;5;241;43m.\u001b[39;49m\u001b[43mnext_v2\u001b[49m\u001b[43m(\u001b[49m\u001b[43m)\u001b[49m\n",
      "File \u001b[0;32m/opt/miniconda3/envs/internet-of-trams/lib/python3.9/site-packages/kafka/consumer/group.py:1201\u001b[0m, in \u001b[0;36mKafkaConsumer.next_v2\u001b[0;34m(self)\u001b[0m\n\u001b[1;32m   1199\u001b[0m     \u001b[38;5;28mself\u001b[39m\u001b[38;5;241m.\u001b[39m_iterator \u001b[38;5;241m=\u001b[39m \u001b[38;5;28mself\u001b[39m\u001b[38;5;241m.\u001b[39m_message_generator_v2()\n\u001b[1;32m   1200\u001b[0m \u001b[38;5;28;01mtry\u001b[39;00m:\n\u001b[0;32m-> 1201\u001b[0m     \u001b[38;5;28;01mreturn\u001b[39;00m \u001b[38;5;28;43mnext\u001b[39;49m\u001b[43m(\u001b[49m\u001b[38;5;28;43mself\u001b[39;49m\u001b[38;5;241;43m.\u001b[39;49m\u001b[43m_iterator\u001b[49m\u001b[43m)\u001b[49m\n\u001b[1;32m   1202\u001b[0m \u001b[38;5;28;01mexcept\u001b[39;00m \u001b[38;5;167;01mStopIteration\u001b[39;00m:\n\u001b[1;32m   1203\u001b[0m     \u001b[38;5;28mself\u001b[39m\u001b[38;5;241m.\u001b[39m_iterator \u001b[38;5;241m=\u001b[39m \u001b[38;5;28;01mNone\u001b[39;00m\n",
      "File \u001b[0;32m/opt/miniconda3/envs/internet-of-trams/lib/python3.9/site-packages/kafka/consumer/group.py:1116\u001b[0m, in \u001b[0;36mKafkaConsumer._message_generator_v2\u001b[0;34m(self)\u001b[0m\n\u001b[1;32m   1114\u001b[0m \u001b[38;5;28;01mdef\u001b[39;00m \u001b[38;5;21m_message_generator_v2\u001b[39m(\u001b[38;5;28mself\u001b[39m):\n\u001b[1;32m   1115\u001b[0m     timeout_ms \u001b[38;5;241m=\u001b[39m \u001b[38;5;241m1000\u001b[39m \u001b[38;5;241m*\u001b[39m (\u001b[38;5;28mself\u001b[39m\u001b[38;5;241m.\u001b[39m_consumer_timeout \u001b[38;5;241m-\u001b[39m time\u001b[38;5;241m.\u001b[39mtime())\n\u001b[0;32m-> 1116\u001b[0m     record_map \u001b[38;5;241m=\u001b[39m \u001b[38;5;28;43mself\u001b[39;49m\u001b[38;5;241;43m.\u001b[39;49m\u001b[43mpoll\u001b[49m\u001b[43m(\u001b[49m\u001b[43mtimeout_ms\u001b[49m\u001b[38;5;241;43m=\u001b[39;49m\u001b[43mtimeout_ms\u001b[49m\u001b[43m,\u001b[49m\u001b[43m \u001b[49m\u001b[43mupdate_offsets\u001b[49m\u001b[38;5;241;43m=\u001b[39;49m\u001b[38;5;28;43;01mFalse\u001b[39;49;00m\u001b[43m)\u001b[49m\n\u001b[1;32m   1117\u001b[0m     \u001b[38;5;28;01mfor\u001b[39;00m tp, records \u001b[38;5;129;01min\u001b[39;00m six\u001b[38;5;241m.\u001b[39miteritems(record_map):\n\u001b[1;32m   1118\u001b[0m         \u001b[38;5;66;03m# Generators are stateful, and it is possible that the tp / records\u001b[39;00m\n\u001b[1;32m   1119\u001b[0m         \u001b[38;5;66;03m# here may become stale during iteration -- i.e., we seek to a\u001b[39;00m\n\u001b[1;32m   1120\u001b[0m         \u001b[38;5;66;03m# different offset, pause consumption, or lose assignment.\u001b[39;00m\n\u001b[1;32m   1121\u001b[0m         \u001b[38;5;28;01mfor\u001b[39;00m record \u001b[38;5;129;01min\u001b[39;00m records:\n\u001b[1;32m   1122\u001b[0m             \u001b[38;5;66;03m# is_fetchable(tp) should handle assignment changes and offset\u001b[39;00m\n\u001b[1;32m   1123\u001b[0m             \u001b[38;5;66;03m# resets; for all other changes (e.g., seeks) we'll rely on the\u001b[39;00m\n\u001b[1;32m   1124\u001b[0m             \u001b[38;5;66;03m# outer function destroying the existing iterator/generator\u001b[39;00m\n\u001b[1;32m   1125\u001b[0m             \u001b[38;5;66;03m# via self._iterator = None\u001b[39;00m\n",
      "File \u001b[0;32m/opt/miniconda3/envs/internet-of-trams/lib/python3.9/site-packages/kafka/consumer/group.py:655\u001b[0m, in \u001b[0;36mKafkaConsumer.poll\u001b[0;34m(self, timeout_ms, max_records, update_offsets)\u001b[0m\n\u001b[1;32m    653\u001b[0m remaining \u001b[38;5;241m=\u001b[39m timeout_ms\n\u001b[1;32m    654\u001b[0m \u001b[38;5;28;01mwhile\u001b[39;00m \u001b[38;5;28;01mTrue\u001b[39;00m:\n\u001b[0;32m--> 655\u001b[0m     records \u001b[38;5;241m=\u001b[39m \u001b[38;5;28;43mself\u001b[39;49m\u001b[38;5;241;43m.\u001b[39;49m\u001b[43m_poll_once\u001b[49m\u001b[43m(\u001b[49m\u001b[43mremaining\u001b[49m\u001b[43m,\u001b[49m\u001b[43m \u001b[49m\u001b[43mmax_records\u001b[49m\u001b[43m,\u001b[49m\u001b[43m \u001b[49m\u001b[43mupdate_offsets\u001b[49m\u001b[38;5;241;43m=\u001b[39;49m\u001b[43mupdate_offsets\u001b[49m\u001b[43m)\u001b[49m\n\u001b[1;32m    656\u001b[0m     \u001b[38;5;28;01mif\u001b[39;00m records:\n\u001b[1;32m    657\u001b[0m         \u001b[38;5;28;01mreturn\u001b[39;00m records\n",
      "File \u001b[0;32m/opt/miniconda3/envs/internet-of-trams/lib/python3.9/site-packages/kafka/consumer/group.py:702\u001b[0m, in \u001b[0;36mKafkaConsumer._poll_once\u001b[0;34m(self, timeout_ms, max_records, update_offsets)\u001b[0m\n\u001b[1;32m    699\u001b[0m     \u001b[38;5;28mself\u001b[39m\u001b[38;5;241m.\u001b[39m_client\u001b[38;5;241m.\u001b[39mpoll(timeout_ms\u001b[38;5;241m=\u001b[39m\u001b[38;5;241m0\u001b[39m)\n\u001b[1;32m    701\u001b[0m timeout_ms \u001b[38;5;241m=\u001b[39m \u001b[38;5;28mmin\u001b[39m(timeout_ms, \u001b[38;5;28mself\u001b[39m\u001b[38;5;241m.\u001b[39m_coordinator\u001b[38;5;241m.\u001b[39mtime_to_next_poll() \u001b[38;5;241m*\u001b[39m \u001b[38;5;241m1000\u001b[39m)\n\u001b[0;32m--> 702\u001b[0m \u001b[38;5;28;43mself\u001b[39;49m\u001b[38;5;241;43m.\u001b[39;49m\u001b[43m_client\u001b[49m\u001b[38;5;241;43m.\u001b[39;49m\u001b[43mpoll\u001b[49m\u001b[43m(\u001b[49m\u001b[43mtimeout_ms\u001b[49m\u001b[38;5;241;43m=\u001b[39;49m\u001b[43mtimeout_ms\u001b[49m\u001b[43m)\u001b[49m\n\u001b[1;32m    703\u001b[0m \u001b[38;5;66;03m# after the long poll, we should check whether the group needs to rebalance\u001b[39;00m\n\u001b[1;32m    704\u001b[0m \u001b[38;5;66;03m# prior to returning data so that the group can stabilize faster\u001b[39;00m\n\u001b[1;32m    705\u001b[0m \u001b[38;5;28;01mif\u001b[39;00m \u001b[38;5;28mself\u001b[39m\u001b[38;5;241m.\u001b[39m_coordinator\u001b[38;5;241m.\u001b[39mneed_rejoin():\n",
      "File \u001b[0;32m/opt/miniconda3/envs/internet-of-trams/lib/python3.9/site-packages/kafka/client_async.py:602\u001b[0m, in \u001b[0;36mKafkaClient.poll\u001b[0;34m(self, timeout_ms, future)\u001b[0m\n\u001b[1;32m    599\u001b[0m             timeout \u001b[38;5;241m=\u001b[39m \u001b[38;5;28mmin\u001b[39m(timeout, \u001b[38;5;28mself\u001b[39m\u001b[38;5;241m.\u001b[39mconfig[\u001b[38;5;124m'\u001b[39m\u001b[38;5;124mretry_backoff_ms\u001b[39m\u001b[38;5;124m'\u001b[39m])\n\u001b[1;32m    600\u001b[0m         timeout \u001b[38;5;241m=\u001b[39m \u001b[38;5;28mmax\u001b[39m(\u001b[38;5;241m0\u001b[39m, timeout)  \u001b[38;5;66;03m# avoid negative timeouts\u001b[39;00m\n\u001b[0;32m--> 602\u001b[0m     \u001b[38;5;28;43mself\u001b[39;49m\u001b[38;5;241;43m.\u001b[39;49m\u001b[43m_poll\u001b[49m\u001b[43m(\u001b[49m\u001b[43mtimeout\u001b[49m\u001b[43m \u001b[49m\u001b[38;5;241;43m/\u001b[39;49m\u001b[43m \u001b[49m\u001b[38;5;241;43m1000\u001b[39;49m\u001b[43m)\u001b[49m\n\u001b[1;32m    604\u001b[0m \u001b[38;5;66;03m# called without the lock to avoid deadlock potential\u001b[39;00m\n\u001b[1;32m    605\u001b[0m \u001b[38;5;66;03m# if handlers need to acquire locks\u001b[39;00m\n\u001b[1;32m    606\u001b[0m responses\u001b[38;5;241m.\u001b[39mextend(\u001b[38;5;28mself\u001b[39m\u001b[38;5;241m.\u001b[39m_fire_pending_completed_requests())\n",
      "File \u001b[0;32m/opt/miniconda3/envs/internet-of-trams/lib/python3.9/site-packages/kafka/client_async.py:634\u001b[0m, in \u001b[0;36mKafkaClient._poll\u001b[0;34m(self, timeout)\u001b[0m\n\u001b[1;32m    631\u001b[0m \u001b[38;5;28mself\u001b[39m\u001b[38;5;241m.\u001b[39m_register_send_sockets()\n\u001b[1;32m    633\u001b[0m start_select \u001b[38;5;241m=\u001b[39m time\u001b[38;5;241m.\u001b[39mtime()\n\u001b[0;32m--> 634\u001b[0m ready \u001b[38;5;241m=\u001b[39m \u001b[38;5;28;43mself\u001b[39;49m\u001b[38;5;241;43m.\u001b[39;49m\u001b[43m_selector\u001b[49m\u001b[38;5;241;43m.\u001b[39;49m\u001b[43mselect\u001b[49m\u001b[43m(\u001b[49m\u001b[43mtimeout\u001b[49m\u001b[43m)\u001b[49m\n\u001b[1;32m    635\u001b[0m end_select \u001b[38;5;241m=\u001b[39m time\u001b[38;5;241m.\u001b[39mtime()\n\u001b[1;32m    636\u001b[0m \u001b[38;5;28;01mif\u001b[39;00m \u001b[38;5;28mself\u001b[39m\u001b[38;5;241m.\u001b[39m_sensors:\n",
      "File \u001b[0;32m/opt/miniconda3/envs/internet-of-trams/lib/python3.9/selectors.py:562\u001b[0m, in \u001b[0;36mKqueueSelector.select\u001b[0;34m(self, timeout)\u001b[0m\n\u001b[1;32m    560\u001b[0m ready \u001b[38;5;241m=\u001b[39m []\n\u001b[1;32m    561\u001b[0m \u001b[38;5;28;01mtry\u001b[39;00m:\n\u001b[0;32m--> 562\u001b[0m     kev_list \u001b[38;5;241m=\u001b[39m \u001b[38;5;28;43mself\u001b[39;49m\u001b[38;5;241;43m.\u001b[39;49m\u001b[43m_selector\u001b[49m\u001b[38;5;241;43m.\u001b[39;49m\u001b[43mcontrol\u001b[49m\u001b[43m(\u001b[49m\u001b[38;5;28;43;01mNone\u001b[39;49;00m\u001b[43m,\u001b[49m\u001b[43m \u001b[49m\u001b[43mmax_ev\u001b[49m\u001b[43m,\u001b[49m\u001b[43m \u001b[49m\u001b[43mtimeout\u001b[49m\u001b[43m)\u001b[49m\n\u001b[1;32m    563\u001b[0m \u001b[38;5;28;01mexcept\u001b[39;00m \u001b[38;5;167;01mInterruptedError\u001b[39;00m:\n\u001b[1;32m    564\u001b[0m     \u001b[38;5;28;01mreturn\u001b[39;00m ready\n",
      "\u001b[0;31mKeyboardInterrupt\u001b[0m: "
     ]
    }
   ],
   "source": [
    "from kafka import KafkaConsumer\n",
    "consumer = KafkaConsumer('quickstart', auto_offset_reset='latest')\n",
    "messages = []\n",
    "for msg in consumer:\n",
    "    print(msg)"
   ]
  }
 ],
 "metadata": {
  "kernelspec": {
   "display_name": "internet-of-trams",
   "language": "python",
   "name": "python3"
  },
  "language_info": {
   "codemirror_mode": {
    "name": "ipython",
    "version": 3
   },
   "file_extension": ".py",
   "mimetype": "text/x-python",
   "name": "python",
   "nbconvert_exporter": "python",
   "pygments_lexer": "ipython3",
   "version": "3.9.18"
  }
 },
 "nbformat": 4,
 "nbformat_minor": 2
}
