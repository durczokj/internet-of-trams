{
 "cells": [
  {
   "cell_type": "code",
   "execution_count": 59,
   "metadata": {},
   "outputs": [],
   "source": [
    "import os, sys\n",
    "sys.path.append(\"/Users/Kuba/Library/CloudStorage/OneDrive-SGH/SGH/Rok IV/Analiza danych w czasie rzeczywistym/internet-of-trams\")\n",
    "\n",
    "from internet_of_trams.api.ztm_data_extractor import ZtmDataExtractor\n",
    "from internet_of_trams.utils.get_config import get_config\n",
    "import json\n",
    "from kafka import KafkaProducer\n",
    "\n",
    "config = get_config()"
   ]
  },
  {
   "cell_type": "code",
   "execution_count": 66,
   "metadata": {},
   "outputs": [],
   "source": [
    "def produce_appearances_of_vehicles(api_key, lines):\n",
    "    extractor = ZtmDataExtractor(api_key)\n",
    "\n",
    "    appearances_of_vehicles = extractor.extract_appearances_of_vehicles_for_lines(lines)\n",
    "    producer = KafkaProducer(bootstrap_servers='localhost:9092')\n",
    "\n",
    "    for aov in appearances_of_vehicles:\n",
    "        producer.send('abc', value=bytes(json.dumps(aov), encoding=\"UTF-8\"))"
   ]
  },
  {
   "cell_type": "code",
   "execution_count": 67,
   "metadata": {},
   "outputs": [],
   "source": [
    "produce_appearances_of_vehicles(config[\"API_KEY\"], config[\"LINES\"])"
   ]
  },
  {
   "cell_type": "code",
   "execution_count": 62,
   "metadata": {},
   "outputs": [],
   "source": [
    "extractor = ZtmDataExtractor(api_key=config[\"API_KEY\"])\n",
    "\n",
    "appearances_of_vehicles = extractor.extract_appearances_of_vehicles_for_lines(lines = config[\"LINES\"])\n",
    "producer = KafkaProducer(bootstrap_servers='localhost:9092')\n",
    "\n",
    "for aov in appearances_of_vehicles:\n",
    "    producer.send('abc', value=bytes(json.dumps(aov), encoding=\"UTF-8\"))"
   ]
  },
  {
   "cell_type": "code",
   "execution_count": 48,
   "metadata": {},
   "outputs": [
    {
     "data": {
      "text/plain": [
       "{'Lines': '35',\n",
       " 'Lon': 20.985247,\n",
       " 'VehicleNumber': '4273',\n",
       " 'Time': '2024-04-13 09:46:36',\n",
       " 'Lat': 52.251568,\n",
       " 'Brigade': '8'}"
      ]
     },
     "execution_count": 48,
     "metadata": {},
     "output_type": "execute_result"
    }
   ],
   "source": [
    "appearance"
   ]
  },
  {
   "cell_type": "code",
   "execution_count": 28,
   "metadata": {},
   "outputs": [
    {
     "ename": "TypeError",
     "evalue": "'str' object cannot be interpreted as an integer",
     "output_type": "error",
     "traceback": [
      "\u001b[0;31m---------------------------------------------------------------------------\u001b[0m",
      "\u001b[0;31mTypeError\u001b[0m                                 Traceback (most recent call last)",
      "Cell \u001b[0;32mIn[28], line 2\u001b[0m\n\u001b[1;32m      1\u001b[0m \u001b[38;5;28;01mfor\u001b[39;00m appearance \u001b[38;5;129;01min\u001b[39;00m appearances:\n\u001b[0;32m----> 2\u001b[0m     \u001b[38;5;28mprint\u001b[39m(\u001b[38;5;28;43mbytes\u001b[39;49m\u001b[43m(\u001b[49m\u001b[43mappearance\u001b[49m\u001b[43m)\u001b[49m)\n",
      "\u001b[0;31mTypeError\u001b[0m: 'str' object cannot be interpreted as an integer"
     ]
    }
   ],
   "source": [
    "for appearance in appearances:\n",
    "    print(bytes(appearance))"
   ]
  },
  {
   "cell_type": "code",
   "execution_count": 9,
   "metadata": {},
   "outputs": [],
   "source": [
    "from kafka import KafkaProducer\n",
    "producer = KafkaProducer(bootstrap_servers='localhost:9092')\n",
    "for i in range(100):\n",
    "    producer.send('abc', value=bytes(f\"infromacja{i}\", encoding = 'UTF-8'))"
   ]
  }
 ],
 "metadata": {
  "kernelspec": {
   "display_name": "internet-of-trams",
   "language": "python",
   "name": "python3"
  },
  "language_info": {
   "codemirror_mode": {
    "name": "ipython",
    "version": 3
   },
   "file_extension": ".py",
   "mimetype": "text/x-python",
   "name": "python",
   "nbconvert_exporter": "python",
   "pygments_lexer": "ipython3",
   "version": "3.9.18"
  }
 },
 "nbformat": 4,
 "nbformat_minor": 2
}
